{
  "nbformat": 4,
  "nbformat_minor": 0,
  "metadata": {
    "colab": {
      "provenance": [],
      "include_colab_link": true
    },
    "kernelspec": {
      "name": "python3",
      "display_name": "Python 3"
    },
    "language_info": {
      "name": "python"
    }
  },
  "cells": [
    {
      "cell_type": "markdown",
      "metadata": {
        "id": "view-in-github",
        "colab_type": "text"
      },
      "source": [
        "<a href=\"https://colab.research.google.com/github/pndang/DSC140B/blob/main/DSC140B_HW2_Q4.ipynb\" target=\"_parent\"><img src=\"https://colab.research.google.com/assets/colab-badge.svg\" alt=\"Open In Colab\"/></a>"
      ]
    },
    {
      "cell_type": "markdown",
      "source": [
        "# Setup"
      ],
      "metadata": {
        "id": "KIXhlj4EIrjL"
      }
    },
    {
      "cell_type": "code",
      "execution_count": null,
      "metadata": {
        "id": "i4rnxGyOImfI"
      },
      "outputs": [],
      "source": [
        "import numpy as np\n",
        "import pandas as pd\n",
        "import matplotlib.pyplot as plt\n",
        "import seaborn as sns"
      ]
    },
    {
      "cell_type": "markdown",
      "source": [
        "# Load Data"
      ],
      "metadata": {
        "id": "KrtBSZMTIzGL"
      }
    },
    {
      "cell_type": "code",
      "source": [
        "def load_faces_data(filepath):\n",
        "    \"\"\"\n",
        "    Load the faces dataset from CSV file.\n",
        "\n",
        "    Args:\n",
        "        filepath: Path to the CSV file containing the faces data\n",
        "\n",
        "    Returns:\n",
        "        numpy array of shape (n_samples, 4096)\n",
        "    \"\"\"\n",
        "    # Load the data\n",
        "    faces_data = pd.read_csv(filepath, header=None).values\n",
        "    print(f\"Loaded data with shape: {faces_data.shape}\")\n",
        "    return faces_data"
      ],
      "metadata": {
        "id": "TbZ2z5LUI0vN"
      },
      "execution_count": null,
      "outputs": []
    },
    {
      "cell_type": "code",
      "source": [
        "face_data = load_faces_data('https://f000.backblazeb2.com/file/dsc-data/faces.csv')\n",
        "\n",
        "# Display an image\n",
        "example_image = face_data[0]\n",
        "plt.imshow(example_image.reshape((64, 64)))"
      ],
      "metadata": {
        "id": "0ykeotFfcTw3",
        "colab": {
          "base_uri": "https://localhost:8080/"
        },
        "outputId": "a354a54c-fc5e-4112-b021-8c3560886a6e"
      },
      "execution_count": null,
      "outputs": [
        {
          "output_type": "stream",
          "name": "stdout",
          "text": [
            "Loaded data with shape: (400, 4096)\n"
          ]
        }
      ]
    },
    {
      "cell_type": "markdown",
      "source": [
        "# 4.a) PCA"
      ],
      "metadata": {
        "id": "ruY7NeSqI5Ma"
      }
    },
    {
      "cell_type": "code",
      "source": [
        "def compute_pca(X):\n",
        "    \"\"\"\n",
        "    Implement PCA from scratch using NumPy.\n",
        "\n",
        "    Args:\n",
        "        X: Input data matrix of shape (n_samples, n_features)\n",
        "\n",
        "    Returns:\n",
        "        mean_face: Mean face (center of the data)\n",
        "        eigenvalues: Eigenvalues of the covariance matrix\n",
        "        eigenvectors: Eigenvectors of the covariance matrix (principal components)\n",
        "    \"\"\"\n",
        "    # ToDo: Step 1: Center the data by subtracting the mean face\n",
        "    mean_face = ...\n",
        "    X_centered = ...\n",
        "\n",
        "    # ToDo: Step 2: Calculate the sample covariance matrix\n",
        "    cov_matrix = ...\n",
        "\n",
        "    # ToDo: Step 3: Find the eigenvectors and eigenvalues of this matrix\n",
        "    eigenvalues, eigenvectors = ...\n",
        "\n",
        "    # ToDo: Sort eigenvectors by decreasing eigenvalues\n",
        "\n",
        "\n",
        "    return mean_face, eigenvalues, eigenvectors"
      ],
      "metadata": {
        "id": "Ve_HkTeDI6z_"
      },
      "execution_count": null,
      "outputs": []
    },
    {
      "cell_type": "code",
      "source": [
        "mean_face, eigenvalues, eigenvectors = compute_pca(face_data)"
      ],
      "metadata": {
        "id": "JEqaY1hxcVNL"
      },
      "execution_count": null,
      "outputs": []
    },
    {
      "cell_type": "markdown",
      "source": [
        "# 4.b) Visualize top Eigenvectors"
      ],
      "metadata": {
        "id": "4TwLZ8knb-q_"
      }
    },
    {
      "cell_type": "code",
      "source": [
        "def visualize_eigenvectors(eigenvectors, eigenvalues, n_components=3):\n",
        "    \"\"\"\n",
        "    Visualize the top eigenvectors as faces.\n",
        "\n",
        "    Args:\n",
        "        eigenvectors: Matrix of eigenvectors\n",
        "        eigenvalues: Array of eigenvalues\n",
        "        n_components: Number of eigenvectors to visualize\n",
        "    \"\"\"\n",
        "    fig, axes = plt.subplots(1, n_components, figsize=(15, 5))\n",
        "\n",
        "    for i in range(n_components):\n",
        "        # ToDo: Reshape the eigenvector to a 64x64 image\n",
        "        eigenface = ...\n",
        "\n",
        "        # ToDo: Normalize for better visualization\n",
        "        eigenface = ...\n",
        "\n",
        "        # Display the eigenface\n",
        "        axes[i].imshow(eigenface)\n",
        "        axes[i].set_title(f'Eigenface {i+1}\\nEigenvalue: {eigenvalues[i]:.2f}')\n",
        "        axes[i].axis('off')\n",
        "\n",
        "    plt.suptitle(f'Top {n_components} Eigenvectors (Eigenfaces)', fontsize=16)\n",
        "    plt.tight_layout()\n",
        "    plt.show()"
      ],
      "metadata": {
        "id": "2cxDew_QJgrS"
      },
      "execution_count": null,
      "outputs": []
    },
    {
      "cell_type": "code",
      "source": [
        "print(\"Visualizing top 3 eigenvectors...\")\n",
        "visualize_eigenvectors(eigenvectors, eigenvalues, 3)"
      ],
      "metadata": {
        "id": "RlDzvWSNVm9G"
      },
      "execution_count": null,
      "outputs": []
    },
    {
      "cell_type": "markdown",
      "source": [
        "# 4.c) Visualize Extreme Images"
      ],
      "metadata": {
        "id": "yUeW4iJ0cgOq"
      }
    },
    {
      "cell_type": "code",
      "source": [
        "def find_extreme_examples(X, mean_face, eigenvectors, n_components = 3, n_extremes=3):\n",
        "    \"\"\"\n",
        "    Find examples at the extremes of each eigenvector.\n",
        "\n",
        "    Args:\n",
        "        X: Input data matrix of shape (n_samples, n_features)\n",
        "        mean_face: Mean face to center the data\n",
        "        eigenvectors: Matrix of eigenvectors\n",
        "        n_extremes: Number of extreme examples to find in each direction\n",
        "\n",
        "    Returns:\n",
        "        max_indices: List of indices of examples with maximum projection for each eigenvector\n",
        "        min_indices: List of indices of examples with minimum projection for each eigenvector\n",
        "        projections: Matrix of projections of each example onto each eigenvector\n",
        "    \"\"\"\n",
        "    # ToDo: Center the data\n",
        "    X_centered = ...\n",
        "\n",
        "    # ToDo: Calculate projections of each face onto each eigenvector (Project centered data onto the eigenvector)\n",
        "    projections = ...\n",
        "\n",
        "    # ToDo: Find indices of examples with maximum and minimum projections\n",
        "    # Hint: Get indices sorted by projection value (ascending) and get the indices with minimum and maximum projections\n",
        "    max_indices = ...\n",
        "    min_indices = ...\n",
        "\n",
        "    return max_indices, min_indices, projections"
      ],
      "metadata": {
        "id": "LhOcIvbdWSJA"
      },
      "execution_count": null,
      "outputs": []
    },
    {
      "cell_type": "code",
      "source": [
        "def visualize_extreme_examples(X, max_indices, min_indices, projections, n_components=3, n_extremes=3):\n",
        "    \"\"\"\n",
        "    Visualize extreme examples for each eigenvector.\n",
        "\n",
        "    Args:\n",
        "        X: Input data matrix of shape (n_samples, n_features)\n",
        "        max_indices: List of indices of examples with maximum projection for each eigenvector\n",
        "        min_indices: List of indices of examples with minimum projection for each eigenvector\n",
        "        projections: Matrix of projections of each example onto each eigenvector\n",
        "        n_components: Number of eigenvectors to visualize\n",
        "        n_extremes: Number of extreme examples to visualize in each direction\n",
        "    \"\"\"\n",
        "    for i in range(n_components):\n",
        "        fig, axes = plt.subplots(2, n_extremes, figsize=(15, 10))\n",
        "        plt.suptitle(f'Extreme Examples along Eigenvector {i+1}', fontsize=16)\n",
        "\n",
        "        # Plot examples with maximum projection\n",
        "        for j in range(n_extremes):\n",
        "            idx = max_indices[i][j]\n",
        "            face = X[idx].reshape(64, 64)\n",
        "            axes[0, j].imshow(face)\n",
        "            axes[0, j].set_title(f'Max #{j+1}, Proj: {projections[idx, i]:.2f}')\n",
        "            axes[0, j].axis('off')\n",
        "\n",
        "        # Plot examples with minimum projection\n",
        "        for j in range(n_extremes):\n",
        "            idx = min_indices[i][j]\n",
        "            face = X[idx].reshape(64, 64)\n",
        "            axes[1, j].imshow(face)\n",
        "            axes[1, j].set_title(f'Min #{j+1}, Proj: {projections[idx, i]:.2f}')\n",
        "            axes[1, j].axis('off')\n",
        "\n",
        "        plt.tight_layout()\n",
        "        plt.show()"
      ],
      "metadata": {
        "id": "LY2X-fdYVUlq"
      },
      "execution_count": null,
      "outputs": []
    },
    {
      "cell_type": "code",
      "source": [
        "# Finding extreme examples\n",
        "max_indices, min_indices, projections = find_extreme_examples(\n",
        "    face_data, mean_face, eigenvectors, n_components = 3, n_extremes=3\n",
        ")\n",
        "# Visualize extreme examples\n",
        "visualize_extreme_examples(\n",
        "    face_data, max_indices, min_indices, projections, n_components=3, n_extremes=3\n",
        ")"
      ],
      "metadata": {
        "id": "bQOJn85iV-4e"
      },
      "execution_count": null,
      "outputs": []
    },
    {
      "cell_type": "markdown",
      "source": [
        "## Can you briefly describe the features associated with each of the top 3 eigenvectors?\n",
        "\n",
        "**Answer**: TODO"
      ],
      "metadata": {
        "id": "WX3auidCcnYq"
      }
    },
    {
      "cell_type": "markdown",
      "source": [
        "# 4.d) Project and Reconstruct Faces"
      ],
      "metadata": {
        "id": "Dn5MGRnscuLG"
      }
    },
    {
      "cell_type": "code",
      "source": [
        "def project_and_reconstruct(face, mean_face, eigenvectors, n_components):\n",
        "    \"\"\"\n",
        "    Project a face onto n_components principal components and reconstruct it.\n",
        "\n",
        "    Args:\n",
        "        face: Face vector to project and reconstruct\n",
        "        mean_face: Mean face for centering\n",
        "        eigenvectors: Principal components (eigenvectors)\n",
        "        n_components: Number of components to use\n",
        "\n",
        "    Returns:\n",
        "        reconstructed_face: Reconstructed face vector\n",
        "    \"\"\"\n",
        "    # ToDo: Center the face\n",
        "    centered_face = ...\n",
        "\n",
        "    # ToDo: Project onto the principal components\n",
        "    projection = ...\n",
        "\n",
        "    # ToDo: Reconstruct the face\n",
        "    reconstructed_face = ...\n",
        "\n",
        "    return reconstructed_face.real  # Ensure the result is real (not complex)"
      ],
      "metadata": {
        "id": "rryz1zxeWahN"
      },
      "execution_count": null,
      "outputs": []
    },
    {
      "cell_type": "code",
      "source": [
        "def calculate_mse(original, reconstruction):\n",
        "    \"\"\"Calculate the Mean Squared Error between original and reconstruction.\"\"\"\n",
        "    # ToDo: Calculate the Mean Squared Error\n",
        "    mse = ...\n",
        "    return mse"
      ],
      "metadata": {
        "id": "EZNUH2qdXbRl"
      },
      "execution_count": null,
      "outputs": []
    },
    {
      "cell_type": "code",
      "source": [
        "# Components to use for reconstruction\n",
        "components_list = [1, 5, 10, 20, 50, 100]"
      ],
      "metadata": {
        "id": "_bAPHv9yXcJQ"
      },
      "execution_count": null,
      "outputs": []
    },
    {
      "cell_type": "code",
      "source": [
        "# Select a face image (e.g., the first face)\n",
        "face_idx = 0  # Do not change the idx\n",
        "selected_face = face_data[face_idx]\n",
        "\n",
        "# Project and reconstruct using different numbers of components\n",
        "print(\"Performing reconstructions...\")\n",
        "reconstructions = []\n",
        "mse_values = []\n",
        "\n",
        "for k in components_list:\n",
        "    reconstructed_face = project_and_reconstruct(\n",
        "        selected_face, mean_face, eigenvectors, k\n",
        "    )\n",
        "    reconstructions.append(reconstructed_face)\n",
        "\n",
        "    # Calculate MSE\n",
        "    mse = calculate_mse(selected_face, reconstructed_face)\n",
        "    mse_values.append(mse)\n",
        "    print(f\"MSE with {k} components: {mse:.4f}\")\n",
        "\n",
        "# Visualize original face and reconstructions\n",
        "print(\"Visualizing reconstructions...\")\n",
        "n_images = len(components_list) + 1  # Original + reconstructions\n",
        "fig, axes = plt.subplots(1, n_images, figsize=(20, 5))\n",
        "\n",
        "# Display original face\n",
        "axes[0].imshow(selected_face.reshape(64, 64))\n",
        "axes[0].set_title('Original Face')\n",
        "axes[0].axis('off')\n",
        "\n",
        "# Display reconstructions\n",
        "for i, (k, reconstruction) in enumerate(zip(components_list, reconstructions)):\n",
        "    axes[i+1].imshow(reconstruction.reshape(64, 64))\n",
        "    axes[i+1].set_title(f'{k} Components\\nMSE: {mse_values[i]:.4f}')\n",
        "    axes[i+1].axis('off')\n",
        "\n",
        "plt.tight_layout()\n",
        "plt.savefig('face_reconstructions.png')\n",
        "plt.show()"
      ],
      "metadata": {
        "id": "XlQySabudBla"
      },
      "execution_count": null,
      "outputs": []
    },
    {
      "cell_type": "markdown",
      "source": [
        "# 4.e) Plot MSE and find optimal \"k\""
      ],
      "metadata": {
        "id": "vAfDCQjEdCIO"
      }
    },
    {
      "cell_type": "code",
      "source": [
        "def plot_mse_vs_components(components_list, mse_values, save_path=None):\n",
        "    \"\"\"\n",
        "    Plot Mean Squared Error vs Number of Components and identify point of diminishing returns.\n",
        "\n",
        "    Parameters:\n",
        "    -----------\n",
        "    components_list : array-like\n",
        "        List of component counts\n",
        "    mse_values : array-like\n",
        "        Corresponding MSE values for each component count\n",
        "    save_path : str, optional\n",
        "        Path to save the figure, if None, figure is not saved\n",
        "    \"\"\"\n",
        "    import matplotlib.pyplot as plt\n",
        "    import numpy as np\n",
        "\n",
        "    plt.figure(figsize=(10, 6))\n",
        "    plt.plot(components_list, mse_values, 'o-', linewidth=2)\n",
        "    plt.xlabel('Number of Components')\n",
        "    plt.ylabel('Mean Squared Error')\n",
        "    plt.title('Reconstruction Error vs. Number of Components')\n",
        "    plt.grid(True)\n",
        "\n",
        "    elbow_components = None\n",
        "\n",
        "    # Find the point of diminishing returns (if it exists)\n",
        "    # Using the \"elbow method\" - look for the point where the rate of decrease slows down\n",
        "    # https://en.wikipedia.org/wiki/Elbow_method_(clustering)\n",
        "    if len(components_list) > 2:\n",
        "        # ToDo: Calculate the rate of change of MSE\n",
        "        mse_diff = ...\n",
        "        rate_changes = ...\n",
        "\n",
        "        # Find the index where rate of change is maximum (the \"elbow\")\n",
        "        if len(rate_changes) > 0:\n",
        "            elbow_idx = np.argmax(rate_changes) + 1  # +1 because of the diff operation\n",
        "            elbow_components = components_list[elbow_idx]\n",
        "\n",
        "            # Highlight the elbow point\n",
        "            plt.scatter([elbow_components], [mse_values[elbow_idx]], color='red', s=100,\n",
        "                        label=f'Diminishing returns at {elbow_components} components')\n",
        "            plt.legend()\n",
        "\n",
        "            print(f\"Point of diminishing returns: {elbow_components} components\")\n",
        "\n",
        "    if save_path:\n",
        "        plt.savefig(save_path)\n",
        "\n",
        "    plt.show()"
      ],
      "metadata": {
        "id": "M_WnAEdGEfqM"
      },
      "execution_count": null,
      "outputs": []
    },
    {
      "cell_type": "code",
      "source": [
        "# Plot MSE vs. number of components\n",
        "plot_mse_vs_components(components_list, mse_values, save_path='mse_vs_components.png')"
      ],
      "metadata": {
        "id": "VjIMdddfEnCg"
      },
      "execution_count": null,
      "outputs": []
    },
    {
      "cell_type": "markdown",
      "source": [
        "### Plotting cumulative variance\n",
        "**Note**: Cumulative explained variance in PCA represents the proportion of the total variance in the original dataset that is captured by a given number of principal components. It's calculated as the sum of the sorted eigenvalues up to a certain component, divided by the sum of all eigenvalues. This metric helps determine how many components to retain while preserving most of the information in the data.\n",
        "    \n",
        "A common approach is to select enough components to reach a threshold\n",
        "(e.g., 95% of variance explained) or to identify an \"elbow point\" where\n",
        "adding more components yields diminishing returns."
      ],
      "metadata": {
        "id": "aXk8CTVIFhTL"
      }
    },
    {
      "cell_type": "code",
      "source": [
        "def plot_cumulative_variance(eigenvalues, components_list, save_path=None):\n",
        "    \"\"\"\n",
        "    Plot cumulative explained variance from PCA eigenvalues and highlight specific component numbers.\n",
        "\n",
        "    Parameters:\n",
        "    -----------\n",
        "    eigenvalues : array-like\n",
        "        The eigenvalues from PCA, sorted in descending order\n",
        "    components_list : array-like\n",
        "        List of component numbers to highlight on the plot\n",
        "    save_path : str, optional\n",
        "        Path to save the figure, if None, figure is not saved\n",
        "    \"\"\"\n",
        "    # ToDo: Compute variance explained by the eigenvalues\n",
        "    cumulative_variance = ...\n",
        "\n",
        "    # Determine how many components to show (either 100 or the length of eigenvalues)\n",
        "    n_components_to_show = min(100, len(eigenvalues))\n",
        "\n",
        "    # Plot cumulative explained variance\n",
        "    plt.figure(figsize=(10, 6))\n",
        "    plt.plot(range(1, n_components_to_show + 1),\n",
        "             cumulative_variance[:n_components_to_show],\n",
        "             'b-', linewidth=2)\n",
        "    plt.xlabel('Number of Components')\n",
        "    plt.ylabel('Cumulative Explained Variance')\n",
        "    plt.title('Explained Variance vs. Number of Components')\n",
        "    plt.grid(True)\n",
        "\n",
        "    # Highlight the specified component numbers\n",
        "    for k in components_list:\n",
        "        if k <= len(eigenvalues):\n",
        "            explained_variance = cumulative_variance[k-1]\n",
        "            plt.scatter([k], [explained_variance], color='red')\n",
        "            plt.annotate(f'{k}: {explained_variance:.2f}',\n",
        "                         xy=(k, explained_variance),\n",
        "                         xytext=(k+5, explained_variance),\n",
        "                         arrowprops=dict(arrowstyle='->'))\n",
        "\n",
        "    # Add a horizontal line at 0.95 (95% variance explained)\n",
        "    plt.axhline(y=0.95, color='r', linestyle='--', alpha=0.5,\n",
        "                label='95% Explained Variance')\n",
        "    plt.legend()\n",
        "\n",
        "    if save_path:\n",
        "        plt.savefig(save_path)\n",
        "\n",
        "    plt.show()"
      ],
      "metadata": {
        "id": "YmDgWP1bFGmr"
      },
      "execution_count": null,
      "outputs": []
    },
    {
      "cell_type": "code",
      "source": [
        "# Plot cumulative explained variance\n",
        "plot_cumulative_variance(eigenvalues, components_list, save_path='explained_variance.png')"
      ],
      "metadata": {
        "id": "fjvh3RaPFXvO"
      },
      "execution_count": null,
      "outputs": []
    },
    {
      "cell_type": "markdown",
      "source": [
        "## Discuss the relationship between the point of diminishing returns identified in the MSE plot and the eigenvalue spectrum shown in the cumulative variance plot. Explain why this point occurs regarding the information content captured by the principal components.\n",
        "\n",
        "**ANSWER:** TODO"
      ],
      "metadata": {
        "id": "yntmYA-zd6kG"
      }
    },
    {
      "cell_type": "code",
      "source": [],
      "metadata": {
        "id": "p8y_lUPva1k6"
      },
      "execution_count": null,
      "outputs": []
    }
  ]
}