{
  "nbformat": 4,
  "nbformat_minor": 0,
  "metadata": {
    "colab": {
      "provenance": [],
      "gpuType": "T4",
      "include_colab_link": true
    },
    "kernelspec": {
      "name": "python3",
      "display_name": "Python 3"
    },
    "language_info": {
      "name": "python"
    },
    "accelerator": "GPU"
  },
  "cells": [
    {
      "cell_type": "markdown",
      "metadata": {
        "id": "view-in-github",
        "colab_type": "text"
      },
      "source": [
        "<a href=\"https://colab.research.google.com/github/pndang/DSC140B/blob/main/DSC140B_HW3_Q6.ipynb\" target=\"_parent\"><img src=\"https://colab.research.google.com/assets/colab-badge.svg\" alt=\"Open In Colab\"/></a>"
      ]
    },
    {
      "cell_type": "markdown",
      "source": [
        "# Setup"
      ],
      "metadata": {
        "id": "9qjVI42wvOZb"
      }
    },
    {
      "cell_type": "code",
      "execution_count": 1,
      "metadata": {
        "id": "5Rl78f7Wrylb"
      },
      "outputs": [],
      "source": [
        "import torch\n",
        "import torch.nn as nn\n",
        "import torch.optim as optim\n",
        "import torchvision\n",
        "import torchvision.transforms as transforms\n",
        "from torchvision import datasets\n",
        "import matplotlib.pyplot as plt\n",
        "import numpy as np\n",
        "from torch.utils.data import DataLoader"
      ]
    },
    {
      "cell_type": "code",
      "source": [
        "# Set random seed for reproducibility\n",
        "torch.manual_seed(42)"
      ],
      "metadata": {
        "id": "aC3amsH-vQjx",
        "colab": {
          "base_uri": "https://localhost:8080/",
          "height": 0
        },
        "outputId": "9c2a7b29-7233-46da-cb50-fce548e7f5ba"
      },
      "execution_count": 2,
      "outputs": [
        {
          "output_type": "execute_result",
          "data": {
            "text/plain": [
              "<torch._C.Generator at 0x7edab77f0e70>"
            ]
          },
          "metadata": {},
          "execution_count": 2
        }
      ]
    },
    {
      "cell_type": "markdown",
      "source": [
        "# Hyperparameters"
      ],
      "metadata": {
        "id": "KuRXyFdCrMAH"
      }
    },
    {
      "cell_type": "code",
      "source": [
        "# DO NOT CHANGE\n",
        "batch_size = 128\n",
        "learning_rate = 1e-3\n",
        "num_epochs = 10\n",
        "input_size = 28 * 28  # FashionMNIST images are 28x28 pixels\n",
        "hidden_sizes = [512, 256, 128]  # Three hidden layers\n",
        "num_classes = 10  # 10 classes in FashionMNIST"
      ],
      "metadata": {
        "id": "no99YfOvvkzZ"
      },
      "execution_count": 3,
      "outputs": []
    },
    {
      "cell_type": "markdown",
      "source": [
        "# Data"
      ],
      "metadata": {
        "id": "zkWxNhF5rPP0"
      }
    },
    {
      "cell_type": "code",
      "source": [
        "# Define transforms for the training and test sets\n",
        "transform = transforms.Compose([\n",
        "    transforms.ToTensor(),\n",
        "    transforms.Normalize((0.5,), (0.5,))\n",
        "])"
      ],
      "metadata": {
        "id": "ibdLthwKvff4"
      },
      "execution_count": 4,
      "outputs": []
    },
    {
      "cell_type": "code",
      "source": [
        "# TODO: Load the FashionMNIST dataset\n",
        "# Complete this with appropriate batch_size\n",
        "trainset = datasets.FashionMNIST(root='./data', train=True, download=True, transform=transform)\n",
        "trainloader = DataLoader(trainset, batch_size=batch_size, shuffle=True)\n",
        "\n",
        "testset = datasets.FashionMNIST(root='./data', train=False, download=True, transform=transform)\n",
        "testloader = DataLoader(testset, batch_size=batch_size, shuffle=False)"
      ],
      "metadata": {
        "id": "Po9433H_vlgw",
        "colab": {
          "base_uri": "https://localhost:8080/",
          "height": 0
        },
        "outputId": "f7e85eda-0457-4ef0-a91c-e3678980615c"
      },
      "execution_count": 5,
      "outputs": [
        {
          "output_type": "stream",
          "name": "stderr",
          "text": [
            "100%|██████████| 26.4M/26.4M [00:01<00:00, 18.5MB/s]\n",
            "100%|██████████| 29.5k/29.5k [00:00<00:00, 292kB/s]\n",
            "100%|██████████| 4.42M/4.42M [00:00<00:00, 5.47MB/s]\n",
            "100%|██████████| 5.15k/5.15k [00:00<00:00, 15.9MB/s]\n"
          ]
        }
      ]
    },
    {
      "cell_type": "code",
      "source": [
        "# Class labels\n",
        "classes = ('T-shirt/top', 'Trouser', 'Pullover', 'Dress', 'Coat',\n",
        "        'Sandal', 'Shirt', 'Sneaker', 'Bag', 'Ankle Boot')"
      ],
      "metadata": {
        "id": "zZrKtGMNwOIe"
      },
      "execution_count": 6,
      "outputs": []
    },
    {
      "cell_type": "code",
      "source": [
        "# Function to show an image\n",
        "def imshow(img):\n",
        "    img = img / 2 + 0.5  # unnormalize\n",
        "    npimg = img.numpy()\n",
        "    plt.imshow(np.transpose(npimg, (1, 2, 0)))\n",
        "    plt.show()"
      ],
      "metadata": {
        "id": "VE1XQS4Ovvvo"
      },
      "execution_count": 7,
      "outputs": []
    },
    {
      "cell_type": "code",
      "source": [
        "# Get random training images\n",
        "dataiter = iter(trainloader)\n",
        "images, labels = next(dataiter)\n",
        "\n",
        "# Show images\n",
        "imshow(torchvision.utils.make_grid(images[:4]))\n",
        "\n",
        "# Print labels\n",
        "print(', '.join(f'{classes[labels[j]]:5s}' for j in range(4)))"
      ],
      "metadata": {
        "id": "y4_fnC7ZwiN9",
        "colab": {
          "base_uri": "https://localhost:8080/",
          "height": 211
        },
        "outputId": "f3457d1b-f0c0-47df-a2c2-431823aa813c"
      },
      "execution_count": 8,
      "outputs": [
        {
          "output_type": "display_data",
          "data": {
            "text/plain": [
              "<Figure size 640x480 with 1 Axes>"
            ],
            "image/png": "[encoded data removed]"
          },
          "metadata": {}
        },
        {
          "output_type": "stream",
          "name": "stdout",
          "text": [
            "Sandal, Sneaker, Coat , Sneaker\n"
          ]
        }
      ]
    },
    {
      "cell_type": "markdown",
      "source": [
        "# MLP"
      ],
      "metadata": {
        "id": "JeriU5Y2rSz4"
      }
    },
    {
      "cell_type": "code",
      "source": [
        "class MLP(nn.Module):\n",
        "    def __init__(self, input_size, hidden_sizes, num_classes):\n",
        "        super(MLP, self).__init__()\n",
        "        # The architecture should have:\n",
        "        # - An input layer that connects to the first hidden layer (512 neurons)\n",
        "        # - ReLU activation after the first hidden layer\n",
        "        # - A second hidden layer (256 neurons)\n",
        "        # - ReLU activation after the second hidden layer\n",
        "        # - A third hidden layer (128 neurons)\n",
        "        # - ReLU activation after the third hidden layer\n",
        "        # - An output layer with 10 neurons (one for each class)\n",
        "        # Hint: Use nn.Sequential, nn.Linear, nn.ReLU for a clean implementation\n",
        "\n",
        "        # TODO: Create a list to hold all layers\n",
        "        layers = []\n",
        "\n",
        "        # TODO: Input layer\n",
        "        layers.append(nn.Linear(input_size, hidden_sizes[0]))\n",
        "        layers.append(nn.ReLU())\n",
        "\n",
        "        # TODO: Hidden layers\n",
        "        for i in range(len(hidden_sizes) - 1):\n",
        "            layers.append(nn.Linear(hidden_sizes[i], hidden_sizes[i + 1]))\n",
        "            layers.append(nn.ReLU())\n",
        "\n",
        "        # TODO: Output layer\n",
        "        layers.append(nn.Linear(hidden_sizes[-1], num_classes))\n",
        "\n",
        "        # TODO: Create the sequential model\n",
        "        self.layers = nn.Sequential(*layers)\n",
        "\n",
        "    def forward(self, x):\n",
        "        # TODO: Flatten the input image\n",
        "        x = x.view(x.size(0), -1)\n",
        "        # TODO: Forward pass through the network\n",
        "        x = self.layers(x)\n",
        "        return x"
      ],
      "metadata": {
        "id": "CL9wXw575AGn"
      },
      "execution_count": 9,
      "outputs": []
    },
    {
      "cell_type": "markdown",
      "source": [
        "# CNN"
      ],
      "metadata": {
        "id": "oTrJZtI1CSMj"
      }
    },
    {
      "cell_type": "code",
      "source": [
        "class CNN(nn.Module):\n",
        "    \"\"\"\n",
        "    A simple Convolutional Neural Network (CNN) for classifying FashionMNIST images.\n",
        "\n",
        "    Architecture:\n",
        "    - Two convolutional layers with ReLU activation and max pooling.\n",
        "    - A fully connected classification head.\n",
        "    \"\"\"\n",
        "    def __init__(self, num_classes):\n",
        "        super(CNN, self).__init__()\n",
        "\n",
        "        # TODO: Convolution Layer 1\n",
        "        self.conv1 = nn.Conv2d(1, 64, kernel_size=3, stride=1, padding=1)\n",
        "        self.relu1 = nn.ReLU()\n",
        "        self.maxpool1 = nn.MaxPool2d(kernel_size=2)\n",
        "\n",
        "        # TODO: Convolution Layer 2\n",
        "        self.conv2 = nn.Conv2d(64, 64, kernel_size=3, stride=1, padding=1)\n",
        "        self.relu2 = nn.ReLU()\n",
        "        self.maxpool2 = nn.MaxPool2d(kernel_size=2)\n",
        "\n",
        "        # TODO: Flatten layer\n",
        "        self.flatten = nn.Flatten()\n",
        "\n",
        "        # TODO: Fully connected classifier\n",
        "        # Hint: Input dimension of the linear layer can be calculated\n",
        "        # from previous operations\n",
        "        self.fc = nn.Linear(64 * 7 * 7, num_classes)\n",
        "\n",
        "    def forward(self, x):\n",
        "        \"\"\"\n",
        "        Forward pass of the CNN.\n",
        "\n",
        "        Args:\n",
        "            x (torch.Tensor): Input batch of shape (batch_size, 1, 28, 28)\n",
        "\n",
        "        Returns:\n",
        "            torch.Tensor: Logits of shape (batch_size, num_classes)\n",
        "        \"\"\"\n",
        "        # TODO: Forward Pass\n",
        "\n",
        "        x = self.conv1(x)\n",
        "        x = self.relu1(x)\n",
        "        x = self.maxpool1(x)\n",
        "\n",
        "        x = self.conv2(x)\n",
        "        x = self.relu2(x)\n",
        "        x = self.maxpool2(x)\n",
        "\n",
        "        x = self.flatten(x)\n",
        "        x = self.fc(x)\n",
        "\n",
        "        return x"
      ],
      "metadata": {
        "id": "JSma6c1ICRxS"
      },
      "execution_count": 10,
      "outputs": []
    },
    {
      "cell_type": "markdown",
      "source": [
        "# Train"
      ],
      "metadata": {
        "id": "NKrzG32trVE6"
      }
    },
    {
      "cell_type": "code",
      "source": [
        "# TODO: Initialize the model\n",
        "model_mlp = MLP(input_size, hidden_sizes, num_classes)\n",
        "model_cnn = CNN(num_classes)"
      ],
      "metadata": {
        "id": "9tMwUJ0p5Dl1"
      },
      "execution_count": 11,
      "outputs": []
    },
    {
      "cell_type": "code",
      "source": [
        "# TODO: Check if GPU is available\n",
        "device = torch.device(\"cuda\" if torch.cuda.is_available() else \"cpu\")\n",
        "print(f\"Using device: {device}\")\n",
        "\n",
        "# TODO: Move models to GPU, if available\n",
        "model_mlp.to(device)\n",
        "model_cnn.to(device)"
      ],
      "metadata": {
        "id": "zzuoWBqz5Gq7",
        "colab": {
          "base_uri": "https://localhost:8080/",
          "height": 0
        },
        "outputId": "c2738ee6-b080-4c83-feea-170ac76b1be8"
      },
      "execution_count": 12,
      "outputs": [
        {
          "output_type": "stream",
          "name": "stdout",
          "text": [
            "Using device: cuda\n"
          ]
        },
        {
          "output_type": "execute_result",
          "data": {
            "text/plain": [
              "CNN(\n",
              "  (conv1): Conv2d(1, 64, kernel_size=(3, 3), stride=(1, 1), padding=(1, 1))\n",
              "  (relu1): ReLU()\n",
              "  (maxpool1): MaxPool2d(kernel_size=2, stride=2, padding=0, dilation=1, ceil_mode=False)\n",
              "  (conv2): Conv2d(64, 64, kernel_size=(3, 3), stride=(1, 1), padding=(1, 1))\n",
              "  (relu2): ReLU()\n",
              "  (maxpool2): MaxPool2d(kernel_size=2, stride=2, padding=0, dilation=1, ceil_mode=False)\n",
              "  (flatten): Flatten(start_dim=1, end_dim=-1)\n",
              "  (fc): Linear(in_features=3136, out_features=10, bias=True)\n",
              ")"
            ]
          },
          "metadata": {},
          "execution_count": 12
        }
      ]
    },
    {
      "cell_type": "code",
      "source": [
        "# TODO: Implement the training loop\n",
        "def train(model, trainloader, num_epochs):\n",
        "\n",
        "    # TODO: Define loss function and optimizer (Adam)\n",
        "    criterion = nn.CrossEntropyLoss()\n",
        "    optimizer = torch.optim.Adam(model.parameters(), lr=learning_rate)\n",
        "\n",
        "    # Set model to training mode\n",
        "    model.train()\n",
        "\n",
        "    # Lists to track progress\n",
        "    train_losses = []\n",
        "    train_accs = []\n",
        "\n",
        "    for epoch in range(num_epochs):\n",
        "        running_loss = 0.0\n",
        "        correct = 0\n",
        "        total = 0\n",
        "\n",
        "        for i, data in enumerate(trainloader, 0):\n",
        "            # TODO: Get the inputs and move them to the device\n",
        "            inputs, labels = data[0], data[1]\n",
        "            inputs, labels = inputs.to(device), labels.to(device)\n",
        "\n",
        "            # TODO: Zero the parameter gradients\n",
        "            optimizer.zero_grad()\n",
        "\n",
        "            # TODO: Forward pass and compute loss\n",
        "            outputs = model(inputs)\n",
        "            loss = criterion(outputs, labels)\n",
        "\n",
        "            # TODO: Backward pass and optimizer step\n",
        "            loss.backward()\n",
        "            optimizer.step()\n",
        "\n",
        "            # Track statistics\n",
        "            running_loss += loss.item()\n",
        "            _, predicted = torch.max(outputs.data, 1)\n",
        "            total += labels.size(0)\n",
        "            correct += (predicted == labels).sum().item()\n",
        "\n",
        "            # Print statistics every 100 mini-batches\n",
        "            if i % 100 == 99:\n",
        "                batch_loss = running_loss / 100\n",
        "                batch_acc = 100 * correct / total\n",
        "                print(f'Epoch: {epoch + 1}, Batch: {i + 1}, Loss: {batch_loss:.3f}, Accuracy: {batch_acc:.2f}%')\n",
        "                running_loss = 0.0\n",
        "                correct = 0\n",
        "                total = 0\n",
        "\n",
        "        # TODO: Calculate epoch-level statistics\n",
        "        epoch_loss, epoch_acc = running_loss / len(trainloader), 100 * correct / total\n",
        "        train_losses.append(epoch_loss)\n",
        "        train_accs.append(epoch_acc)\n",
        "\n",
        "        print(f'Epoch {epoch + 1} completed. Train Loss: {epoch_loss:.3f}, Train Accuracy: {epoch_acc:.2f}%')\n",
        "\n",
        "    print('Finished Training')\n",
        "    return train_losses, train_accs"
      ],
      "metadata": {
        "id": "Og_wmczG5Jib"
      },
      "execution_count": 16,
      "outputs": []
    },
    {
      "cell_type": "code",
      "source": [
        "# Implement the evaluation function\n",
        "def evaluate(model, dataloader):\n",
        "\n",
        "    # TODO: Define loss function\n",
        "    criterion = nn.CrossEntropyLoss()\n",
        "\n",
        "    model.eval()\n",
        "    running_loss = 0.0\n",
        "    correct = 0\n",
        "    total = 0\n",
        "\n",
        "    with torch.no_grad():\n",
        "        for data in dataloader:\n",
        "            # TODO: Get the inputs and move them to the device\n",
        "            images, labels = data[0], data[1]\n",
        "            images, labels = images.to(device), labels.to(device)\n",
        "\n",
        "            # TODO: Forward pass and compute loss\n",
        "            outputs = model(images)\n",
        "            loss = criterion(outputs, labels)\n",
        "\n",
        "            # Track statistics\n",
        "            running_loss += loss.item()\n",
        "            _, predicted = torch.max(outputs.data, 1)\n",
        "            total += labels.size(0)\n",
        "            correct += (predicted == labels).sum().item()\n",
        "\n",
        "    avg_loss = running_loss / len(dataloader)\n",
        "    accuracy = 100 * correct / total\n",
        "\n",
        "    return avg_loss, accuracy"
      ],
      "metadata": {
        "id": "y1e9ZZio5MMe"
      },
      "execution_count": 22,
      "outputs": []
    },
    {
      "cell_type": "code",
      "source": [
        "print(\"Training MLP...\")\n",
        "train_losses_mlp, train_accs_mlp = train(model_mlp, trainloader, num_epochs)\n",
        "\n",
        "print(\"Training CNN...\")\n",
        "train_losses_cnn, train_accs_cnn = train(model_cnn, trainloader, num_epochs)"
      ],
      "metadata": {
        "id": "Yk8_5pp65QL7",
        "colab": {
          "base_uri": "https://localhost:8080/",
          "height": 0
        },
        "outputId": "294aafaf-8de9-46e2-9c99-512bcf42389f"
      },
      "execution_count": 18,
      "outputs": [
        {
          "output_type": "stream",
          "name": "stdout",
          "text": [
            "Training MLP...\n",
            "Epoch: 1, Batch: 100, Loss: 0.769, Accuracy: 72.19%\n",
            "Epoch: 1, Batch: 200, Loss: 0.499, Accuracy: 82.12%\n",
            "Epoch: 1, Batch: 300, Loss: 0.461, Accuracy: 83.08%\n",
            "Epoch: 1, Batch: 400, Loss: 0.434, Accuracy: 83.92%\n",
            "Epoch 1 completed. Train Loss: 0.060, Train Accuracy: 84.85%\n",
            "Epoch: 2, Batch: 100, Loss: 0.388, Accuracy: 86.02%\n",
            "Epoch: 2, Batch: 200, Loss: 0.376, Accuracy: 86.18%\n",
            "Epoch: 2, Batch: 300, Loss: 0.376, Accuracy: 86.52%\n",
            "Epoch: 2, Batch: 400, Loss: 0.376, Accuracy: 86.14%\n",
            "Epoch 2 completed. Train Loss: 0.053, Train Accuracy: 86.40%\n",
            "Epoch: 3, Batch: 100, Loss: 0.339, Accuracy: 87.45%\n",
            "Epoch: 3, Batch: 200, Loss: 0.340, Accuracy: 87.38%\n",
            "Epoch: 3, Batch: 300, Loss: 0.343, Accuracy: 87.38%\n",
            "Epoch: 3, Batch: 400, Loss: 0.328, Accuracy: 87.78%\n",
            "Epoch 3 completed. Train Loss: 0.048, Train Accuracy: 88.08%\n",
            "Epoch: 4, Batch: 100, Loss: 0.309, Accuracy: 88.45%\n",
            "Epoch: 4, Batch: 200, Loss: 0.316, Accuracy: 88.24%\n",
            "Epoch: 4, Batch: 300, Loss: 0.309, Accuracy: 88.55%\n",
            "Epoch: 4, Batch: 400, Loss: 0.307, Accuracy: 88.67%\n",
            "Epoch 4 completed. Train Loss: 0.045, Train Accuracy: 88.75%\n",
            "Epoch: 5, Batch: 100, Loss: 0.291, Accuracy: 89.22%\n",
            "Epoch: 5, Batch: 200, Loss: 0.282, Accuracy: 89.50%\n",
            "Epoch: 5, Batch: 300, Loss: 0.281, Accuracy: 89.56%\n",
            "Epoch: 5, Batch: 400, Loss: 0.291, Accuracy: 89.13%\n",
            "Epoch 5 completed. Train Loss: 0.043, Train Accuracy: 89.09%\n",
            "Epoch: 6, Batch: 100, Loss: 0.263, Accuracy: 90.11%\n",
            "Epoch: 6, Batch: 200, Loss: 0.275, Accuracy: 89.66%\n",
            "Epoch: 6, Batch: 300, Loss: 0.281, Accuracy: 89.32%\n",
            "Epoch: 6, Batch: 400, Loss: 0.262, Accuracy: 90.07%\n",
            "Epoch 6 completed. Train Loss: 0.041, Train Accuracy: 89.80%\n",
            "Epoch: 7, Batch: 100, Loss: 0.265, Accuracy: 90.16%\n",
            "Epoch: 7, Batch: 200, Loss: 0.253, Accuracy: 90.36%\n",
            "Epoch: 7, Batch: 300, Loss: 0.260, Accuracy: 90.29%\n",
            "Epoch: 7, Batch: 400, Loss: 0.262, Accuracy: 90.45%\n",
            "Epoch 7 completed. Train Loss: 0.039, Train Accuracy: 90.49%\n",
            "Epoch: 8, Batch: 100, Loss: 0.244, Accuracy: 90.67%\n",
            "Epoch: 8, Batch: 200, Loss: 0.236, Accuracy: 91.00%\n",
            "Epoch: 8, Batch: 300, Loss: 0.246, Accuracy: 90.90%\n",
            "Epoch: 8, Batch: 400, Loss: 0.249, Accuracy: 90.54%\n",
            "Epoch 8 completed. Train Loss: 0.036, Train Accuracy: 90.70%\n",
            "Epoch: 9, Batch: 100, Loss: 0.226, Accuracy: 91.45%\n",
            "Epoch: 9, Batch: 200, Loss: 0.234, Accuracy: 91.42%\n",
            "Epoch: 9, Batch: 300, Loss: 0.227, Accuracy: 91.55%\n",
            "Epoch: 9, Batch: 400, Loss: 0.229, Accuracy: 91.62%\n",
            "Epoch 9 completed. Train Loss: 0.034, Train Accuracy: 91.26%\n",
            "Epoch: 10, Batch: 100, Loss: 0.214, Accuracy: 92.01%\n",
            "Epoch: 10, Batch: 200, Loss: 0.211, Accuracy: 91.97%\n",
            "Epoch: 10, Batch: 300, Loss: 0.227, Accuracy: 91.53%\n",
            "Epoch: 10, Batch: 400, Loss: 0.223, Accuracy: 91.50%\n",
            "Epoch 10 completed. Train Loss: 0.033, Train Accuracy: 91.23%\n",
            "Finished Training\n",
            "Training CNN...\n",
            "Epoch: 1, Batch: 100, Loss: 0.723, Accuracy: 74.84%\n",
            "Epoch: 1, Batch: 200, Loss: 0.448, Accuracy: 84.09%\n",
            "Epoch: 1, Batch: 300, Loss: 0.384, Accuracy: 86.40%\n",
            "Epoch: 1, Batch: 400, Loss: 0.355, Accuracy: 87.59%\n",
            "Epoch 1 completed. Train Loss: 0.051, Train Accuracy: 87.64%\n",
            "Epoch: 2, Batch: 100, Loss: 0.323, Accuracy: 88.30%\n",
            "Epoch: 2, Batch: 200, Loss: 0.320, Accuracy: 88.50%\n",
            "Epoch: 2, Batch: 300, Loss: 0.286, Accuracy: 89.99%\n",
            "Epoch: 2, Batch: 400, Loss: 0.291, Accuracy: 89.71%\n",
            "Epoch 2 completed. Train Loss: 0.043, Train Accuracy: 89.61%\n",
            "Epoch: 3, Batch: 100, Loss: 0.271, Accuracy: 90.85%\n",
            "Epoch: 3, Batch: 200, Loss: 0.269, Accuracy: 90.38%\n",
            "Epoch: 3, Batch: 300, Loss: 0.253, Accuracy: 90.70%\n",
            "Epoch: 3, Batch: 400, Loss: 0.250, Accuracy: 90.89%\n",
            "Epoch 3 completed. Train Loss: 0.039, Train Accuracy: 90.65%\n",
            "Epoch: 4, Batch: 100, Loss: 0.227, Accuracy: 91.76%\n",
            "Epoch: 4, Batch: 200, Loss: 0.227, Accuracy: 91.78%\n",
            "Epoch: 4, Batch: 300, Loss: 0.239, Accuracy: 91.31%\n",
            "Epoch: 4, Batch: 400, Loss: 0.233, Accuracy: 91.52%\n",
            "Epoch 4 completed. Train Loss: 0.034, Train Accuracy: 91.83%\n",
            "Epoch: 5, Batch: 100, Loss: 0.204, Accuracy: 92.67%\n",
            "Epoch: 5, Batch: 200, Loss: 0.219, Accuracy: 92.09%\n",
            "Epoch: 5, Batch: 300, Loss: 0.215, Accuracy: 92.40%\n",
            "Epoch: 5, Batch: 400, Loss: 0.216, Accuracy: 92.22%\n",
            "Epoch 5 completed. Train Loss: 0.030, Train Accuracy: 92.64%\n",
            "Epoch: 6, Batch: 100, Loss: 0.191, Accuracy: 93.27%\n",
            "Epoch: 6, Batch: 200, Loss: 0.191, Accuracy: 93.02%\n",
            "Epoch: 6, Batch: 300, Loss: 0.198, Accuracy: 93.01%\n",
            "Epoch: 6, Batch: 400, Loss: 0.190, Accuracy: 93.09%\n",
            "Epoch 6 completed. Train Loss: 0.028, Train Accuracy: 93.02%\n",
            "Epoch: 7, Batch: 100, Loss: 0.178, Accuracy: 93.79%\n",
            "Epoch: 7, Batch: 200, Loss: 0.186, Accuracy: 93.16%\n",
            "Epoch: 7, Batch: 300, Loss: 0.175, Accuracy: 93.84%\n",
            "Epoch: 7, Batch: 400, Loss: 0.182, Accuracy: 93.21%\n",
            "Epoch 7 completed. Train Loss: 0.027, Train Accuracy: 93.26%\n",
            "Epoch: 8, Batch: 100, Loss: 0.160, Accuracy: 94.41%\n",
            "Epoch: 8, Batch: 200, Loss: 0.168, Accuracy: 93.77%\n",
            "Epoch: 8, Batch: 300, Loss: 0.171, Accuracy: 93.80%\n",
            "Epoch: 8, Batch: 400, Loss: 0.166, Accuracy: 94.09%\n",
            "Epoch 8 completed. Train Loss: 0.024, Train Accuracy: 94.02%\n",
            "Epoch: 9, Batch: 100, Loss: 0.154, Accuracy: 94.78%\n",
            "Epoch: 9, Batch: 200, Loss: 0.153, Accuracy: 94.66%\n",
            "Epoch: 9, Batch: 300, Loss: 0.156, Accuracy: 94.34%\n",
            "Epoch: 9, Batch: 400, Loss: 0.161, Accuracy: 94.08%\n",
            "Epoch 9 completed. Train Loss: 0.022, Train Accuracy: 94.57%\n",
            "Epoch: 10, Batch: 100, Loss: 0.138, Accuracy: 95.11%\n",
            "Epoch: 10, Batch: 200, Loss: 0.144, Accuracy: 94.66%\n",
            "Epoch: 10, Batch: 300, Loss: 0.151, Accuracy: 94.45%\n",
            "Epoch: 10, Batch: 400, Loss: 0.147, Accuracy: 94.84%\n",
            "Epoch 10 completed. Train Loss: 0.021, Train Accuracy: 95.03%\n",
            "Finished Training\n"
          ]
        }
      ]
    },
    {
      "cell_type": "markdown",
      "source": [
        "# Evaluate"
      ],
      "metadata": {
        "id": "FKOupNJLrXtu"
      }
    },
    {
      "cell_type": "code",
      "source": [
        "# Test the model\n",
        "print(\"Evaluating MLP...\")\n",
        "test_loss_mlp, test_acc_mlp = evaluate(model_mlp, testloader)\n",
        "print(f'MLP: Test Loss: {test_loss_mlp:.3f}, Test Accuracy: {test_acc_mlp:.2f}%')\n",
        "\n",
        "print(\"Evaluating CNN...\")\n",
        "test_loss_cnn, test_acc_cnn = evaluate(model_cnn, testloader)\n",
        "print(f'CNN: Test Loss: {test_loss_cnn:.3f}, Test Accuracy: {test_acc_cnn:.2f}%')"
      ],
      "metadata": {
        "id": "2LrMsBum5Smh",
        "colab": {
          "base_uri": "https://localhost:8080/",
          "height": 0
        },
        "outputId": "ac904585-5561-4bc8-d4e8-9f3a75d37e49"
      },
      "execution_count": 23,
      "outputs": [
        {
          "output_type": "stream",
          "name": "stdout",
          "text": [
            "Evaluating MLP...\n",
            "MLP: Test Loss: 0.347, Test Accuracy: 88.42%\n",
            "Evaluating CNN...\n",
            "CNN: Test Loss: 0.241, Test Accuracy: 91.93%\n"
          ]
        }
      ]
    },
    {
      "cell_type": "markdown",
      "source": [
        "# Plot"
      ],
      "metadata": {
        "id": "Wt3clYLWrZo_"
      }
    },
    {
      "cell_type": "code",
      "source": [
        "# Plot training progress\n",
        "plt.figure(figsize=(8, 5))\n",
        "plt.legend(['MLP', 'CNN'])\n",
        "plt.title('Training Loss')\n",
        "plt.xlabel('Epoch')\n",
        "plt.ylabel('Loss')\n",
        "plt.plot(\n",
        "    range(1, num_epochs + 1),\n",
        "    train_losses_mlp,\n",
        "    label='MLP'\n",
        ")\n",
        "plt.plot(\n",
        "    range(1, num_epochs + 1),\n",
        "    train_losses_cnn,\n",
        "    label='CNN'\n",
        ")\n",
        "plt.legend()\n",
        "plt.show()\n",
        "\n",
        "\n",
        "plt.figure(figsize=(8, 5))\n",
        "plt.legend(['MLP', 'CNN'])\n",
        "plt.title('Training Accuracy')\n",
        "plt.xlabel('Epoch')\n",
        "plt.ylabel('Accuracy (%)')\n",
        "\n",
        "plt.plot(\n",
        "    range(1, num_epochs + 1),\n",
        "    train_accs_mlp,\n",
        "    label='MLP'\n",
        ")\n",
        "plt.plot(\n",
        "    range(1, num_epochs + 1),\n",
        "    train_accs_cnn,\n",
        "    label='CNN'\n",
        ")\n",
        "plt.legend()\n",
        "plt.show()\n",
        "\n"
      ],
      "metadata": {
        "id": "E2X-eMQh5U-g",
        "colab": {
          "base_uri": "https://localhost:8080/",
          "height": 957
        },
        "outputId": "3d35ceee-436e-439e-91de-4692b9a819ed"
      },
      "execution_count": 24,
      "outputs": [
        {
          "output_type": "display_data",
          "data": {
            "text/plain": [
              "<Figure size 800x500 with 1 Axes>"
            ],
            "image/png": "[encoded data removed]"
          },
          "metadata": {}
        },
        {
          "output_type": "display_data",
          "data": {
            "text/plain": [
              "<Figure size 800x500 with 1 Axes>"
            ],
            "image/png": "[encoded data removed]"
          },
          "metadata": {}
        }
      ]
    },
    {
      "cell_type": "markdown",
      "source": [
        "# Visualize Predictions"
      ],
      "metadata": {
        "id": "RQdOxhc-r93-"
      }
    },
    {
      "cell_type": "code",
      "source": [
        "# Visualize some predictions\n",
        "def visualize_predictions(model, testloader, classes, num_images=5):\n",
        "    model.eval()\n",
        "\n",
        "    # Get a batch of test images\n",
        "    dataiter = iter(testloader)\n",
        "    images, labels = next(dataiter)\n",
        "    images, labels = images[:num_images].to(device), labels[:num_images].to(device)\n",
        "\n",
        "    # Make predictions\n",
        "    with torch.no_grad():\n",
        "        outputs = model(images)\n",
        "        _, predicted = torch.max(outputs, 1)\n",
        "\n",
        "    # Move images back to CPU for visualization\n",
        "    images = images.cpu()\n",
        "\n",
        "    # Plot the images with their true and predicted labels\n",
        "    fig = plt.figure(figsize=(15, 3))\n",
        "    for i in range(num_images):\n",
        "        ax = fig.add_subplot(1, num_images, i + 1)\n",
        "        ax.imshow(images[i].squeeze(), cmap='gray')\n",
        "        color = 'green' if predicted[i] == labels[i] else 'red'\n",
        "        ax.set_title(f'True: {classes[labels[i]]}\\nPred: {classes[predicted[i]]}', color=color)\n",
        "\n",
        "    plt.tight_layout()\n",
        "    plt.show()\n",
        "\n",
        "# Visualize some predictions\n",
        "visualize_predictions(model_mlp, testloader, classes)"
      ],
      "metadata": {
        "id": "BV0GjGzq5d16",
        "colab": {
          "base_uri": "https://localhost:8080/",
          "height": 337
        },
        "outputId": "20dcdd3a-7683-40e0-b8b5-bdc06da0e74e"
      },
      "execution_count": 25,
      "outputs": [
        {
          "output_type": "display_data",
          "data": {
            "text/plain": [
              "<Figure size 1500x300 with 5 Axes>"
            ],
            "image/png": "[encoded data removed]"
          },
          "metadata": {}
        }
      ]
    },
    {
      "cell_type": "code",
      "source": [],
      "metadata": {
        "id": "vX6DyvQ2cpp7"
      },
      "execution_count": null,
      "outputs": []
    }
  ]
}